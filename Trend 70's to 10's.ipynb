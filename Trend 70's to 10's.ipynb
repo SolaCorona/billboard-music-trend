{
 "cells": [
  {
   "cell_type": "code",
   "execution_count": 1,
   "metadata": {},
   "outputs": [],
   "source": [
    "# Import necessary packages\n",
    "import pandas as pd\n",
    "import datetime as dt\n",
    "import matplotlib.pylab as plt\n",
    "%matplotlib inline"
   ]
  },
  {
   "cell_type": "code",
   "execution_count": 2,
   "metadata": {},
   "outputs": [
    {
     "data": {
      "text/html": [
       "<div>\n",
       "<style scoped>\n",
       "    .dataframe tbody tr th:only-of-type {\n",
       "        vertical-align: middle;\n",
       "    }\n",
       "\n",
       "    .dataframe tbody tr th {\n",
       "        vertical-align: top;\n",
       "    }\n",
       "\n",
       "    .dataframe thead th {\n",
       "        text-align: right;\n",
       "    }\n",
       "</style>\n",
       "<table border=\"1\" class=\"dataframe\">\n",
       "  <thead>\n",
       "    <tr style=\"text-align: right;\">\n",
       "      <th></th>\n",
       "      <th>id</th>\n",
       "      <th>song</th>\n",
       "      <th>album</th>\n",
       "      <th>artist</th>\n",
       "      <th>acousticness</th>\n",
       "      <th>danceability</th>\n",
       "      <th>duration_ms</th>\n",
       "      <th>energy</th>\n",
       "      <th>instrumentalness</th>\n",
       "      <th>key</th>\n",
       "      <th>liveness</th>\n",
       "      <th>loudness</th>\n",
       "      <th>mode</th>\n",
       "      <th>speechiness</th>\n",
       "      <th>tempo</th>\n",
       "      <th>time_signature</th>\n",
       "      <th>valence</th>\n",
       "      <th>album_id</th>\n",
       "      <th>date</th>\n",
       "    </tr>\n",
       "  </thead>\n",
       "  <tbody>\n",
       "    <tr>\n",
       "      <th>0</th>\n",
       "      <td>0Veyvc3n9AcLSoK3r1dA12</td>\n",
       "      <td>Voices In My Head</td>\n",
       "      <td>Hoodie SZN</td>\n",
       "      <td>A Boogie Wit da Hoodie</td>\n",
       "      <td>0.0555</td>\n",
       "      <td>0.754</td>\n",
       "      <td>142301.0</td>\n",
       "      <td>0.663</td>\n",
       "      <td>0.000000</td>\n",
       "      <td>6.0</td>\n",
       "      <td>0.101</td>\n",
       "      <td>-6.311</td>\n",
       "      <td>0.0</td>\n",
       "      <td>0.427</td>\n",
       "      <td>90.195</td>\n",
       "      <td>4.0</td>\n",
       "      <td>0.207</td>\n",
       "      <td>3r5hf3Cj3EMh1C2saQ8jyt</td>\n",
       "      <td>2018-12-21</td>\n",
       "    </tr>\n",
       "    <tr>\n",
       "      <th>1</th>\n",
       "      <td>77JzXZonNumWsuXKy9vr3U</td>\n",
       "      <td>Beasty</td>\n",
       "      <td>Hoodie SZN</td>\n",
       "      <td>A Boogie Wit da Hoodie</td>\n",
       "      <td>0.2920</td>\n",
       "      <td>0.860</td>\n",
       "      <td>152829.0</td>\n",
       "      <td>0.418</td>\n",
       "      <td>0.000000</td>\n",
       "      <td>7.0</td>\n",
       "      <td>0.106</td>\n",
       "      <td>-9.061</td>\n",
       "      <td>0.0</td>\n",
       "      <td>0.158</td>\n",
       "      <td>126.023</td>\n",
       "      <td>4.0</td>\n",
       "      <td>0.374</td>\n",
       "      <td>3r5hf3Cj3EMh1C2saQ8jyt</td>\n",
       "      <td>2018-12-21</td>\n",
       "    </tr>\n",
       "    <tr>\n",
       "      <th>2</th>\n",
       "      <td>18yllZD0TdF7ykcREib8Z1</td>\n",
       "      <td>I Did It</td>\n",
       "      <td>Hoodie SZN</td>\n",
       "      <td>A Boogie Wit da Hoodie</td>\n",
       "      <td>0.1530</td>\n",
       "      <td>0.718</td>\n",
       "      <td>215305.0</td>\n",
       "      <td>0.454</td>\n",
       "      <td>0.000046</td>\n",
       "      <td>8.0</td>\n",
       "      <td>0.116</td>\n",
       "      <td>-9.012</td>\n",
       "      <td>1.0</td>\n",
       "      <td>0.127</td>\n",
       "      <td>89.483</td>\n",
       "      <td>4.0</td>\n",
       "      <td>0.196</td>\n",
       "      <td>3r5hf3Cj3EMh1C2saQ8jyt</td>\n",
       "      <td>2018-12-21</td>\n",
       "    </tr>\n",
       "    <tr>\n",
       "      <th>3</th>\n",
       "      <td>1wJRveJZLSb1rjhnUHQiv6</td>\n",
       "      <td>Swervin (feat. 6ix9ine)</td>\n",
       "      <td>Hoodie SZN</td>\n",
       "      <td>A Boogie Wit da Hoodie</td>\n",
       "      <td>0.0153</td>\n",
       "      <td>0.581</td>\n",
       "      <td>189487.0</td>\n",
       "      <td>0.662</td>\n",
       "      <td>0.000000</td>\n",
       "      <td>9.0</td>\n",
       "      <td>0.111</td>\n",
       "      <td>-5.239</td>\n",
       "      <td>1.0</td>\n",
       "      <td>0.303</td>\n",
       "      <td>93.023</td>\n",
       "      <td>4.0</td>\n",
       "      <td>0.434</td>\n",
       "      <td>3r5hf3Cj3EMh1C2saQ8jyt</td>\n",
       "      <td>2018-12-21</td>\n",
       "    </tr>\n",
       "    <tr>\n",
       "      <th>4</th>\n",
       "      <td>0jAfdqv18goRTUxm3ilRjb</td>\n",
       "      <td>Startender (feat. Offset and Tyga)</td>\n",
       "      <td>Hoodie SZN</td>\n",
       "      <td>A Boogie Wit da Hoodie</td>\n",
       "      <td>0.0235</td>\n",
       "      <td>0.736</td>\n",
       "      <td>192779.0</td>\n",
       "      <td>0.622</td>\n",
       "      <td>0.000000</td>\n",
       "      <td>6.0</td>\n",
       "      <td>0.151</td>\n",
       "      <td>-4.653</td>\n",
       "      <td>0.0</td>\n",
       "      <td>0.133</td>\n",
       "      <td>191.971</td>\n",
       "      <td>4.0</td>\n",
       "      <td>0.506</td>\n",
       "      <td>3r5hf3Cj3EMh1C2saQ8jyt</td>\n",
       "      <td>2018-12-21</td>\n",
       "    </tr>\n",
       "  </tbody>\n",
       "</table>\n",
       "</div>"
      ],
      "text/plain": [
       "                       id                                song       album  \\\n",
       "0  0Veyvc3n9AcLSoK3r1dA12                   Voices In My Head  Hoodie SZN   \n",
       "1  77JzXZonNumWsuXKy9vr3U                              Beasty  Hoodie SZN   \n",
       "2  18yllZD0TdF7ykcREib8Z1                            I Did It  Hoodie SZN   \n",
       "3  1wJRveJZLSb1rjhnUHQiv6             Swervin (feat. 6ix9ine)  Hoodie SZN   \n",
       "4  0jAfdqv18goRTUxm3ilRjb  Startender (feat. Offset and Tyga)  Hoodie SZN   \n",
       "\n",
       "                   artist  acousticness  danceability  duration_ms  energy  \\\n",
       "0  A Boogie Wit da Hoodie        0.0555         0.754     142301.0   0.663   \n",
       "1  A Boogie Wit da Hoodie        0.2920         0.860     152829.0   0.418   \n",
       "2  A Boogie Wit da Hoodie        0.1530         0.718     215305.0   0.454   \n",
       "3  A Boogie Wit da Hoodie        0.0153         0.581     189487.0   0.662   \n",
       "4  A Boogie Wit da Hoodie        0.0235         0.736     192779.0   0.622   \n",
       "\n",
       "   instrumentalness  key  liveness  loudness  mode  speechiness    tempo  \\\n",
       "0          0.000000  6.0     0.101    -6.311   0.0        0.427   90.195   \n",
       "1          0.000000  7.0     0.106    -9.061   0.0        0.158  126.023   \n",
       "2          0.000046  8.0     0.116    -9.012   1.0        0.127   89.483   \n",
       "3          0.000000  9.0     0.111    -5.239   1.0        0.303   93.023   \n",
       "4          0.000000  6.0     0.151    -4.653   0.0        0.133  191.971   \n",
       "\n",
       "   time_signature  valence                album_id        date  \n",
       "0             4.0    0.207  3r5hf3Cj3EMh1C2saQ8jyt  2018-12-21  \n",
       "1             4.0    0.374  3r5hf3Cj3EMh1C2saQ8jyt  2018-12-21  \n",
       "2             4.0    0.196  3r5hf3Cj3EMh1C2saQ8jyt  2018-12-21  \n",
       "3             4.0    0.434  3r5hf3Cj3EMh1C2saQ8jyt  2018-12-21  \n",
       "4             4.0    0.506  3r5hf3Cj3EMh1C2saQ8jyt  2018-12-21  "
      ]
     },
     "execution_count": 2,
     "metadata": {},
     "output_type": "execute_result"
    }
   ],
   "source": [
    "# Read the .csv file\n",
    "boarddf = pd.read_csv('acoustic_features.csv')\n",
    "boarddf.head()"
   ]
  },
  {
   "cell_type": "code",
   "execution_count": 3,
   "metadata": {},
   "outputs": [],
   "source": [
    "# Change date column type to datetime\n",
    "boarddf['date'] = pd.to_datetime(boarddf['date'], format='%Y-%m-%d')\n",
    "\n",
    "# Set  datetime index\n",
    "boarddf.set_index('date', inplace = True)"
   ]
  },
  {
   "cell_type": "code",
   "execution_count": 4,
   "metadata": {},
   "outputs": [],
   "source": [
    "# Sort boarddf by datetime index\n",
    "boarddf = boarddf.sort_index()"
   ]
  },
  {
   "cell_type": "code",
   "execution_count": 5,
   "metadata": {},
   "outputs": [],
   "source": [
    "# Select data from 70's to 10's\n",
    "boarddf_70_19 = boarddf['1970':'2019']"
   ]
  },
  {
   "cell_type": "code",
   "execution_count": 6,
   "metadata": {},
   "outputs": [
    {
     "data": {
      "image/png": "[encoded data removed]",
      "text/plain": [
       "<Figure size 432x288 with 1 Axes>"
      ]
     },
     "metadata": {
      "needs_background": "light"
     },
     "output_type": "display_data"
    }
   ],
   "source": [
    "# Plot 1\n",
    "boarddf_70_19['acousticness'].resample('A').mean().plot()\n",
    "plt.title(\"Change of Average Acousticness (70's to 10's)\")\n",
    "plt.xlabel('Year')\n",
    "plt.ylabel('Acousticness')\n",
    "plt.show()"
   ]
  },
  {
   "cell_type": "code",
   "execution_count": 7,
   "metadata": {},
   "outputs": [
    {
     "data": {
      "image/png": "[encoded data removed]",
      "text/plain": [
       "<Figure size 432x288 with 1 Axes>"
      ]
     },
     "metadata": {
      "needs_background": "light"
     },
     "output_type": "display_data"
    }
   ],
   "source": [
    "# Plot 2\n",
    "boarddf_70_19['tempo'].resample('A').mean().plot()\n",
    "plt.title(\"Change of Average Tempo (70's to 10's)\")\n",
    "plt.xlabel('Year')\n",
    "plt.ylabel('Tempo')\n",
    "plt.show()"
   ]
  }
 ],
 "metadata": {
  "kernelspec": {
   "display_name": "Python 3",
   "language": "python",
   "name": "python3"
  },
  "language_info": {
   "codemirror_mode": {
    "name": "ipython",
    "version": 3
   },
   "file_extension": ".py",
   "mimetype": "text/x-python",
   "name": "python",
   "nbconvert_exporter": "python",
   "pygments_lexer": "ipython3",
   "version": "3.7.3"
  }
 },
 "nbformat": 4,
 "nbformat_minor": 2
}
